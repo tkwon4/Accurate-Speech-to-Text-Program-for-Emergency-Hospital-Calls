{
 "cells": [
  {
   "cell_type": "code",
   "execution_count": 6,
   "id": "6381670c-1cd5-4c3f-ba13-36cbfb430da3",
   "metadata": {},
   "outputs": [
    {
     "name": "stdout",
     "output_type": "stream",
     "text": [
      "00 - SoundCorrupt - 422-122949-0022.wav\n",
      "00 - SoundCorrupt - 422-122949-0023.wav\n",
      "00 - SoundCorrupt - 422-122949-0021.wav\n",
      "00 - SoundCorrupt - 422-122949-0035.wav\n",
      "00 - SoundCorrupt - 422-122949-0009.wav\n",
      "00 - SoundCorrupt - 422-122949-0008.wav\n",
      "00 - SoundCorrupt - 422-122949-0034.wav\n",
      "00 - SoundCorrupt - 422-122949-0020.wav\n",
      ".DS_Store\n",
      "00 - SoundCorrupt - 422-122949-0018.wav\n",
      "00 - SoundCorrupt - 422-122949-0024.wav\n",
      "00 - SoundCorrupt - 422-122949-0030.wav\n",
      "00 - SoundCorrupt - 422-122949-0031.wav\n",
      "00 - SoundCorrupt - 422-122949-0025.wav\n",
      "00 - SoundCorrupt - 422-122949-0019.wav\n",
      "00 - SoundCorrupt - 422-122949-0033.wav\n",
      "00 - SoundCorrupt - 422-122949-0027.wav\n",
      "00 - SoundCorrupt - 422-122949-0026.wav\n",
      "00 - SoundCorrupt - 422-122949-0032.wav\n",
      ".ipynb_checkpoints\n",
      "00 - SoundCorrupt - 422-122949-0017.wav\n",
      "00 - SoundCorrupt - 422-122949-0003.wav\n",
      "00 - SoundCorrupt - 422-122949-0002.wav\n",
      "00 - SoundCorrupt - 422-122949-0016.wav\n",
      "00 - SoundCorrupt - 422-122949-0000.wav\n",
      "00 - SoundCorrupt - 422-122949-0014.wav\n",
      "00 - SoundCorrupt - 422-122949-0028.wav\n",
      "00 - SoundCorrupt - 422-122949-0029.wav\n",
      "00 - SoundCorrupt - 422-122949-0015.wav\n",
      "00 - SoundCorrupt - 422-122949-0001.wav\n",
      "00 - SoundCorrupt - 422-122949-0005.wav\n",
      "00 - SoundCorrupt - 422-122949-0011.wav\n",
      "00 - SoundCorrupt - 422-122949-0010.wav\n",
      "00 - SoundCorrupt - 422-122949-0004.wav\n",
      "00 - SoundCorrupt - 422-122949-0012.wav\n",
      "00 - SoundCorrupt - 422-122949-0006.wav\n",
      "00 - SoundCorrupt - 422-122949-0007.wav\n",
      "00 - SoundCorrupt - 422-122949-0013.wav\n"
     ]
    }
   ],
   "source": [
    "import librosa\n",
    "import numpy as np\n",
    "import math\n",
    "import soundfile\n",
    "import matplotlib.pyplot as plt\n",
    "from pathlib import Path\n",
    "import os\n",
    "\n",
    "for file in os.listdir(os.getcwd()+\"/122949\"):\n",
    "    print(file)\n",
    "    signal, sr = librosa.load(file, sr = 16000)\n",
    "    for x in range(1, 11):\n",
    "        static_level = 100 \n",
    "        \n",
    "        STD_n = 0.001 * (x/10)* static_level\n",
    "        noise = np.random.normal(0, STD_n, signal.shape[0])\n",
    "        \n",
    "        signal_noise = signal + noise\n",
    "        \n",
    "        soundfile.write(str(x)+file, signal_noise, 16000)"
   ]
  },
  {
   "cell_type": "code",
   "execution_count": null,
   "id": "7f41541d-6080-4047-8819-c2e62aa65854",
   "metadata": {},
   "outputs": [],
   "source": []
  }
 ],
 "metadata": {
  "kernelspec": {
   "display_name": "Python 3 (ipykernel)",
   "language": "python",
   "name": "python3"
  },
  "language_info": {
   "codemirror_mode": {
    "name": "ipython",
    "version": 3
   },
   "file_extension": ".py",
   "mimetype": "text/x-python",
   "name": "python",
   "nbconvert_exporter": "python",
   "pygments_lexer": "ipython3",
   "version": "3.11.5"
  }
 },
 "nbformat": 4,
 "nbformat_minor": 5
}
