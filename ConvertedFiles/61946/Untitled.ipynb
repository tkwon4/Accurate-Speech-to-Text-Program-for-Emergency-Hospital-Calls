{
 "cells": [
  {
   "cell_type": "code",
   "execution_count": 1,
   "id": "0489854c-b8db-4664-8d53-e9c14606438f",
   "metadata": {},
   "outputs": [],
   "source": [
    "import librosa\n",
    "import numpy as np\n",
    "import math\n",
    "import soundfile\n",
    "import matplotlib.pyplot as plt\n",
    "from pathlib import Path\n",
    "import os\n",
    "\n",
    "for file in os.listdir(os.getcwd()):\n",
    "    if file.endswith(\".wav\"):\n",
    "        signal, sr = librosa.load(file, sr = 16000)\n",
    "        for x in range(1, 11):\n",
    "            static_level = 100 \n",
    "            \n",
    "            STD_n = 0.001 * (x/10)* static_level\n",
    "            noise = np.random.normal(0, STD_n, signal.shape[0])\n",
    "            \n",
    "            signal_noise = signal + noise\n",
    "            if x == 10:\n",
    "                soundfile.write(str(x)+\"-\"+file, signal_noise, 16000)\n",
    "            else:\n",
    "                soundfile.write(\"0\"+str(x)+\"-\"+file, signal_noise, 16000)"
   ]
  },
  {
   "cell_type": "code",
   "execution_count": null,
   "id": "4e33a8d2-4e31-4dcd-bced-6b08012a26e3",
   "metadata": {},
   "outputs": [],
   "source": []
  }
 ],
 "metadata": {
  "kernelspec": {
   "display_name": "Python 3 (ipykernel)",
   "language": "python",
   "name": "python3"
  },
  "language_info": {
   "codemirror_mode": {
    "name": "ipython",
    "version": 3
   },
   "file_extension": ".py",
   "mimetype": "text/x-python",
   "name": "python",
   "nbconvert_exporter": "python",
   "pygments_lexer": "ipython3",
   "version": "3.9.6"
  }
 },
 "nbformat": 4,
 "nbformat_minor": 5
}
