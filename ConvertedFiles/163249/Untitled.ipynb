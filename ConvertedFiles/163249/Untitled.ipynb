{
 "cells": [
  {
   "cell_type": "code",
   "execution_count": 1,
   "id": "0c943754-4349-449d-9f4b-05da50e7868c",
   "metadata": {},
   "outputs": [],
   "source": [
    "import librosa\n",
    "import numpy as np\n",
    "import math\n",
    "import soundfile\n",
    "import matplotlib.pyplot as plt\n",
    "from pathlib import Path\n",
    "import os\n",
    "\n",
    "for file in os.listdir(os.getcwd()):\n",
    "    if file.endswith(\".wav\"):\n",
    "        signal, sr = librosa.load(file, sr = 16000)\n",
    "        for x in range(1, 11):\n",
    "            static_level = 100 \n",
    "            \n",
    "            STD_n = 0.001 * (x/10)* static_level\n",
    "            noise = np.random.normal(0, STD_n, signal.shape[0])\n",
    "            \n",
    "            signal_noise = signal + noise\n",
    "            if x == 10:\n",
    "                soundfile.write(str(x)+\"-\"+file, signal_noise, 16000)\n",
    "            else:\n",
    "                soundfile.write(\"0\"+str(x)+\"-\"+file, signal_noise, 16000)"
   ]
  },
  {
   "cell_type": "code",
   "execution_count": null,
   "id": "21726e97-b6a2-4c04-bd87-b7a0f4485951",
   "metadata": {},
   "outputs": [],
   "source": []
  }
 ],
 "metadata": {
  "kernelspec": {
   "display_name": "Python 3 (ipykernel)",
   "language": "python",
   "name": "python3"
  },
  "language_info": {
   "codemirror_mode": {
    "name": "ipython",
    "version": 3
   },
   "file_extension": ".py",
   "mimetype": "text/x-python",
   "name": "python",
   "nbconvert_exporter": "python",
   "pygments_lexer": "ipython3",
   "version": "3.9.6"
  }
 },
 "nbformat": 4,
 "nbformat_minor": 5
}
